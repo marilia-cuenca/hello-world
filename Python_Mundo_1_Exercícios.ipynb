{
  "nbformat": 4,
  "nbformat_minor": 0,
  "metadata": {
    "colab": {
      "name": "Python Mundo 1 - Exercícios",
      "provenance": [],
      "collapsed_sections": [],
      "authorship_tag": "ABX9TyPdgXAabxpnndheZZm2TsuC",
      "include_colab_link": true
    },
    "kernelspec": {
      "name": "python3",
      "display_name": "Python 3"
    },
    "language_info": {
      "name": "python"
    }
  },
  "cells": [
    {
      "cell_type": "markdown",
      "metadata": {
        "id": "view-in-github",
        "colab_type": "text"
      },
      "source": [
        "<a href=\"https://colab.research.google.com/github/marilia-cuenca/hello-world/blob/main/Python_Mundo_1_Exerc%C3%ADcios.ipynb\" target=\"_parent\"><img src=\"https://colab.research.google.com/assets/colab-badge.svg\" alt=\"Open In Colab\"/></a>"
      ]
    },
    {
      "cell_type": "code",
      "metadata": {
        "colab": {
          "base_uri": "https://localhost:8080/"
        },
        "id": "acjsKcnW8L8y",
        "outputId": "f76522e1-d622-4e11-d232-50abab993985"
      },
      "source": [
        "n1 = int(input('Digite um número: '))\n",
        "n2 = int(input('Digite outro número: '))\n",
        "soma = n1 + n2\n",
        "print('A soma de {} e {} é {}.'.format(n1, n2, soma))\n"
      ],
      "execution_count": null,
      "outputs": [
        {
          "output_type": "stream",
          "text": [
            "Digite um número: 9\n",
            "Digite outro número: 5\n",
            "A soma de 9 e 5 é 14.\n"
          ],
          "name": "stdout"
        }
      ]
    },
    {
      "cell_type": "code",
      "metadata": {
        "colab": {
          "base_uri": "https://localhost:8080/"
        },
        "id": "DBK2S8ik8c1g",
        "outputId": "8c92c9b6-a194-42d3-b613-638fce4f6607"
      },
      "source": [
        "x = input('Digite algo: ')\n",
        "print('O tipo primitivo de {} é '.format(x), type(x))\n",
        "print('{} tem só espaços? '.format(x), x.isspace())\n",
        "print('{} é um número? '.format(x), x.isnumeric())\n",
        "print('{} é uma palavra?'.format(x), x.isalpha())\n",
        "print('{} tem letras e números?'.format(x), x.isalnum())\n",
        "print('{} está em maiúsculas?'.format(x), x.isupper())\n",
        "print('{} está em minúsculas?'.format(x), x.islower())\n",
        "print('{} está capitalizada?'.format(x), x.istitle())\n"
      ],
      "execution_count": null,
      "outputs": [
        {
          "output_type": "stream",
          "text": [
            "Digite algo: MARÍLIA\n",
            "O tipo primitivo de MARÍLIA é  <class 'str'>\n",
            "MARÍLIA tem só espaços?  False\n",
            "MARÍLIA é um número?  False\n",
            "MARÍLIA é uma palavra? True\n",
            "MARÍLIA tem letras e números? True\n",
            "MARÍLIA está em maiúsculas? True\n",
            "MARÍLIA está em minúsculas? False\n",
            "MARÍLIA está capitalizada? False\n"
          ],
          "name": "stdout"
        }
      ]
    },
    {
      "cell_type": "code",
      "metadata": {
        "colab": {
          "base_uri": "https://localhost:8080/"
        },
        "id": "-873QIOr8c34",
        "outputId": "0159d112-c089-4ca3-efe5-9e6ffd533b51"
      },
      "source": [
        "19//2\n"
      ],
      "execution_count": null,
      "outputs": [
        {
          "output_type": "execute_result",
          "data": {
            "text/plain": [
              "9"
            ]
          },
          "metadata": {
            "tags": []
          },
          "execution_count": 25
        }
      ]
    },
    {
      "cell_type": "code",
      "metadata": {
        "colab": {
          "base_uri": "https://localhost:8080/"
        },
        "id": "fXL4I-0s8c6A",
        "outputId": "089299ff-4f7c-4bae-9ed6-e492123fc515"
      },
      "source": [
        "nome = input('Qual é o seu nome? ')\n",
        "print('Muito prazer em conhecer você, {:*^20}!'.format(nome))\n"
      ],
      "execution_count": null,
      "outputs": [
        {
          "output_type": "stream",
          "text": [
            "Qual é o seu nome? Ana\n",
            "Muito prazer em conhecer você, ********Ana*********!\n"
          ],
          "name": "stdout"
        }
      ]
    },
    {
      "cell_type": "code",
      "metadata": {
        "colab": {
          "base_uri": "https://localhost:8080/"
        },
        "id": "UCIEJVwv8c8p",
        "outputId": "c537b178-b7e6-4044-f384-a93721543b3e"
      },
      "source": [
        "n1 = int(input('Digite um número: '))\n",
        "n2 = int(input('Digite outro número: '))\n",
        "soma = n1 + n2\n",
        "mult = n1 * n2\n",
        "div = n1 / n2\n",
        "di = n1 // n2\n",
        "exp = n1 ** n2\n",
        "print('A soma entre {} e {} é {} e a divisão é {:.2f}.'. format(n1, n2, soma, div))\n",
        "print('A divisão inteira entre {} e {} é {} e a potência é {}.'.format(n1, n2, di, exp))\n"
      ],
      "execution_count": null,
      "outputs": [
        {
          "output_type": "stream",
          "text": [
            "Digite um número: 4\n",
            "Digite outro número: 3\n",
            "A soma entre 4 e 3 é 7 e a divisão é 1.33.\n",
            "A divisão inteira entre 4 e 3 é 1 e a potência é 64.\n"
          ],
          "name": "stdout"
        }
      ]
    },
    {
      "cell_type": "code",
      "metadata": {
        "colab": {
          "base_uri": "https://localhost:8080/"
        },
        "id": "ESEvnpmnYnAk",
        "outputId": "ed9a8be8-60bc-4ed2-d493-131fdcaa361f"
      },
      "source": [
        "n1 = int(input('Digite um número: '))\n",
        "#ant = n1 - 1\n",
        "#suc = n1 + 1\n",
        "print('O antecessor de {} é {} e o sucessor é {}.'.format(n1, (n1 - 1), (n1 + 1)))\n"
      ],
      "execution_count": 67,
      "outputs": [
        {
          "output_type": "stream",
          "text": [
            "Digite um número: 10\n",
            "O antecessor de 10 é 9 e o sucessor é 11.\n"
          ],
          "name": "stdout"
        }
      ]
    },
    {
      "cell_type": "code",
      "metadata": {
        "colab": {
          "base_uri": "https://localhost:8080/"
        },
        "id": "Q3kFKTuyYnDB",
        "outputId": "c9c9d7d7-0a85-4750-8aa5-555dcb856b93"
      },
      "source": [
        "n1 = int(input('Digite um número: '))\n",
        "d = n1 * 2\n",
        "t = n1 * 3\n",
        "r = n1 ** (1/2)\n",
        "print('O dobro do número {} é {}, o triplo é {} e a raiz quadrada é {:.2f}.'.format(n1, d, t, r))\n"
      ],
      "execution_count": 69,
      "outputs": [
        {
          "output_type": "stream",
          "text": [
            "Digite um número: 10\n",
            "O dobro do número 10 é 20, o triplo é 30 e a raiz quadrada é 3.16.\n"
          ],
          "name": "stdout"
        }
      ]
    },
    {
      "cell_type": "code",
      "metadata": {
        "colab": {
          "base_uri": "https://localhost:8080/"
        },
        "id": "e-kaW6RyYnFe",
        "outputId": "ecd6922b-dd0a-4e29-f8f4-d6ccf41730f4"
      },
      "source": [
        "nome = input('Digite o nome do aluno: ')\n",
        "n1 = float(input('Qual é a primeira nota? '))\n",
        "n2 = float(input('Qual é a segunda nota? '))\n",
        "média = (n1 + n2)/2\n",
        "print('A média do aluno {} é {:.1f}.'.format(nome, média))\n"
      ],
      "execution_count": 72,
      "outputs": [
        {
          "output_type": "stream",
          "text": [
            "Digite o nome do aluno: Carlos\n",
            "Qual é a primeira nota? 5.5\n",
            "Qual é a segunda nota? 2\n",
            "A média do aluno Carlos é 3.8.\n"
          ],
          "name": "stdout"
        }
      ]
    },
    {
      "cell_type": "code",
      "metadata": {
        "colab": {
          "base_uri": "https://localhost:8080/"
        },
        "id": "JmIOlNajYnH0",
        "outputId": "f6cc192c-5411-4087-c2de-bd25d1aa0378"
      },
      "source": [
        "v1 = float(input('Qual é o tamanho em metros? '))\n",
        "c = v1*100\n",
        "m = v1*1000\n",
        "print('A conversão de {:.0f} metros para centímetros é {:.0f} e para milímetros é {:.0f}.'.format(v1, c, m))\n"
      ],
      "execution_count": 76,
      "outputs": [
        {
          "output_type": "stream",
          "text": [
            "Qual é o tamanho em metros? 2.5\n",
            "A conversão de 2 metros para centímetros é 250 e para milímetros é 2500.\n"
          ],
          "name": "stdout"
        }
      ]
    },
    {
      "cell_type": "code",
      "metadata": {
        "colab": {
          "base_uri": "https://localhost:8080/"
        },
        "id": "NzcE_letYnNQ",
        "outputId": "bf357103-5425-42ae-cbf0-89a29cc2c049"
      },
      "source": [
        "n = int(input('Digite um número: '))\n",
        "n1 = n * 1\n",
        "n2 = n * 2\n",
        "n3 = n * 3\n",
        "n4 = n * 4\n",
        "n5 = n * 5\n",
        "n6 = n * 6\n",
        "n7 = n * 7\n",
        "n8 = n * 8\n",
        "n9 = n * 9\n",
        "n10 = n * 10\n",
        "print('A tabuada do número {} é: '.format(n))\n",
        "print(n1, n2, n3, n4, n5, n6, n7, n8, n9, n10)\n"
      ],
      "execution_count": 79,
      "outputs": [
        {
          "output_type": "stream",
          "text": [
            "Digite um número: 7\n",
            "A tabuada do número 7 é: \n",
            "7 14 21 28 35 42 49 56 63 70\n"
          ],
          "name": "stdout"
        }
      ]
    },
    {
      "cell_type": "code",
      "metadata": {
        "id": "4BpPrO72cYfQ",
        "colab": {
          "base_uri": "https://localhost:8080/"
        },
        "outputId": "76d26365-6e9f-4979-cd38-52e662a665ce"
      },
      "source": [
        "dinheiro = float(input('Quanto de dinheiro você tem? R$ '))\n",
        "dólares = dinheiro / 3.27\n",
        "print('Com a quantia de R$ {}, você pode comprar USD {:.2f}.'.format(dinheiro, dólares))\n"
      ],
      "execution_count": 81,
      "outputs": [
        {
          "output_type": "stream",
          "text": [
            "Quanto de dinheiro você tem? R$ 125.32\n",
            "Com a quantia de R$ 125.32, você pode comprar USD 38.32.\n"
          ],
          "name": "stdout"
        }
      ]
    },
    {
      "cell_type": "code",
      "metadata": {
        "id": "qUB1mFNscYiL",
        "colab": {
          "base_uri": "https://localhost:8080/"
        },
        "outputId": "5d2d0b46-dc4e-4f42-a276-ea80bd23baa1"
      },
      "source": [
        "l = float(input('Qual é a largura da parede? '))\n",
        "a = float(input('Qual é a altura da parede? '))\n",
        "área = l * a\n",
        "tinta = área / 2\n",
        "print('Para a área de {} m², serão necessários {:.1f} litros de tinta.'.format(área, tinta))\n"
      ],
      "execution_count": 85,
      "outputs": [
        {
          "output_type": "stream",
          "text": [
            "Qual é a largura da parede? 5\n",
            "Qual é a altura da parede? 5\n",
            "Para a área de 25.0 m², serão necessários 12.5 litros de tinta.\n"
          ],
          "name": "stdout"
        }
      ]
    },
    {
      "cell_type": "code",
      "metadata": {
        "id": "_iBxaeJDcYlN",
        "colab": {
          "base_uri": "https://localhost:8080/"
        },
        "outputId": "0fceb569-30a5-42ca-c26b-48f6bdc82d13"
      },
      "source": [
        "p = float(input('Qual é o preço do produto? R$ '))\n",
        "np = p - (p * 5/100)\n",
        "print('Com 5% de desconto, o preço de R$ {:.2f} passa a ser de R$ {:.2f}.'.format(p, np))\n"
      ],
      "execution_count": 87,
      "outputs": [
        {
          "output_type": "stream",
          "text": [
            "Qual é o preço do produto? R$ 100\n",
            "Com 5% de desconto, o preço de R$ 100.00 passa a ser de R$ 95.00.\n"
          ],
          "name": "stdout"
        }
      ]
    },
    {
      "cell_type": "code",
      "metadata": {
        "id": "Ub3XEwN68c_o",
        "colab": {
          "base_uri": "https://localhost:8080/"
        },
        "outputId": "a26a2d6b-3a36-400e-9930-3fed7ec13720"
      },
      "source": [
        "nome = input('Digite o nome do funcionário: ')\n",
        "salário = float(input('Digite o salário do funcionário: R$ '))\n",
        "aumento = salário + (salário * 15/100)\n",
        "print('O novo salário de {} é R$ {:.2f}.'.format(nome, aumento))\n"
      ],
      "execution_count": 94,
      "outputs": [
        {
          "output_type": "stream",
          "text": [
            "Digite o nome do funcionário: Maria\n",
            "Digite o salário do funcionário: R$ 3500\n",
            "O novo salário de Maria é R$ 4025.00.\n"
          ],
          "name": "stdout"
        }
      ]
    },
    {
      "cell_type": "code",
      "metadata": {
        "id": "U0VxjQzbCR0q"
      },
      "source": [
        ""
      ],
      "execution_count": null,
      "outputs": []
    },
    {
      "cell_type": "code",
      "metadata": {
        "id": "EAgCrxJqCSJl"
      },
      "source": [
        ""
      ],
      "execution_count": null,
      "outputs": []
    },
    {
      "cell_type": "code",
      "metadata": {
        "id": "FXqQojy6hLwF"
      },
      "source": [
        ""
      ],
      "execution_count": null,
      "outputs": []
    }
  ]
}