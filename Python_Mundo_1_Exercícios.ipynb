{
  "nbformat": 4,
  "nbformat_minor": 0,
  "metadata": {
    "colab": {
      "name": "Python Mundo 1 - Exercícios",
      "provenance": [],
      "collapsed_sections": [],
      "authorship_tag": "ABX9TyOnDB8z3Xl/vfJihgN5w0oO",
      "include_colab_link": true
    },
    "kernelspec": {
      "name": "python3",
      "display_name": "Python 3"
    },
    "language_info": {
      "name": "python"
    }
  },
  "cells": [
    {
      "cell_type": "markdown",
      "metadata": {
        "id": "view-in-github",
        "colab_type": "text"
      },
      "source": [
        "<a href=\"https://colab.research.google.com/github/marilia-cuenca/hello-world/blob/main/Python_Mundo_1_Exerc%C3%ADcios.ipynb\" target=\"_parent\"><img src=\"https://colab.research.google.com/assets/colab-badge.svg\" alt=\"Open In Colab\"/></a>"
      ]
    },
    {
      "cell_type": "code",
      "metadata": {
        "id": "acjsKcnW8L8y"
      },
      "source": [
        "n1 = int(input('Digite um número: '))\n",
        "n2 = int(input('Digite outro número: '))\n",
        "soma = n1 + n2\n",
        "print('A soma de {} e {} é {}.'.format(n1, n2, soma))\n"
      ],
      "execution_count": null,
      "outputs": []
    },
    {
      "cell_type": "code",
      "metadata": {
        "id": "DBK2S8ik8c1g"
      },
      "source": [
        "x = input('Digite algo: ')\n",
        "print('O tipo primitivo de {} é '.format(x), type(x))\n",
        "print('{} tem só espaços? '.format(x), x.isspace())\n",
        "print('{} é um número? '.format(x), x.isnumeric())\n",
        "print('{} é uma palavra?'.format(x), x.isalpha())\n",
        "print('{} tem letras e números?'.format(x), x.isalnum())\n",
        "print('{} está em maiúsculas?'.format(x), x.isupper())\n",
        "print('{} está em minúsculas?'.format(x), x.islower())\n",
        "print('{} está capitalizada?'.format(x), x.istitle())\n"
      ],
      "execution_count": null,
      "outputs": []
    },
    {
      "cell_type": "code",
      "metadata": {
        "id": "fXL4I-0s8c6A"
      },
      "source": [
        "nome = input('Qual é o seu nome? ')\n",
        "print('Muito prazer em conhecer você, {}!'.format(nome))\n"
      ],
      "execution_count": null,
      "outputs": []
    },
    {
      "cell_type": "code",
      "metadata": {
        "id": "UCIEJVwv8c8p"
      },
      "source": [
        "n1 = int(input('Digite um número: '))\n",
        "n2 = int(input('Digite outro número: '))\n",
        "soma = n1 + n2\n",
        "mult = n1 * n2\n",
        "div = n1 / n2\n",
        "di = n1 // n2\n",
        "exp = n1 ** n2\n",
        "print('A soma entre {} e {} é {} e a divisão é {:.2f}.'. format(n1, n2, soma, div))\n",
        "print('A divisão inteira entre {} e {} é {} e a potência é {}.'.format(n1, n2, di, exp))\n"
      ],
      "execution_count": null,
      "outputs": []
    },
    {
      "cell_type": "code",
      "metadata": {
        "id": "ESEvnpmnYnAk"
      },
      "source": [
        "n1 = int(input('Digite um número: '))\n",
        "#ant = n1 - 1\n",
        "#suc = n1 + 1\n",
        "print('O antecessor de {} é {} e o sucessor é {}.'.format(n1, (n1 - 1), (n1 + 1)))\n"
      ],
      "execution_count": null,
      "outputs": []
    },
    {
      "cell_type": "code",
      "metadata": {
        "id": "Q3kFKTuyYnDB"
      },
      "source": [
        "n1 = int(input('Digite um número: '))\n",
        "d = n1 * 2\n",
        "t = n1 * 3\n",
        "r = n1 ** (1/2)\n",
        "print('O dobro do número {} é {}, o triplo é {} e a raiz quadrada é {:.2f}.'.format(n1, d, t, r))\n"
      ],
      "execution_count": null,
      "outputs": []
    },
    {
      "cell_type": "code",
      "metadata": {
        "id": "e-kaW6RyYnFe"
      },
      "source": [
        "nome = input('Digite o nome do aluno: ')\n",
        "n1 = float(input('Qual é a primeira nota? '))\n",
        "n2 = float(input('Qual é a segunda nota? '))\n",
        "média = (n1 + n2)/2\n",
        "print('A média do aluno {} é {:.1f}.'.format(nome, média))\n"
      ],
      "execution_count": null,
      "outputs": []
    },
    {
      "cell_type": "code",
      "metadata": {
        "id": "JmIOlNajYnH0"
      },
      "source": [
        "v1 = float(input('Qual é o tamanho em metros? '))\n",
        "c = v1*100\n",
        "m = v1*1000\n",
        "print('A conversão de {:.0f} metros para centímetros é {:.0f} e para milímetros é {:.0f}.'.format(v1, c, m))\n"
      ],
      "execution_count": null,
      "outputs": []
    },
    {
      "cell_type": "code",
      "metadata": {
        "id": "NzcE_letYnNQ"
      },
      "source": [
        "n = int(input('Digite um número: '))\n",
        "n1 = n * 1\n",
        "n2 = n * 2\n",
        "n3 = n * 3\n",
        "n4 = n * 4\n",
        "n5 = n * 5\n",
        "n6 = n * 6\n",
        "n7 = n * 7\n",
        "n8 = n * 8\n",
        "n9 = n * 9\n",
        "n10 = n * 10\n",
        "print('A tabuada do número {} é: '.format(n))\n",
        "print(n1, n2, n3, n4, n5, n6, n7, n8, n9, n10)\n"
      ],
      "execution_count": null,
      "outputs": []
    },
    {
      "cell_type": "code",
      "metadata": {
        "id": "4BpPrO72cYfQ"
      },
      "source": [
        "dinheiro = float(input('Quanto de dinheiro você tem? R$ '))\n",
        "dólares = dinheiro / 3.27\n",
        "print('Com a quantia de R$ {}, você pode comprar USD {:.2f}.'.format(dinheiro, dólares))\n"
      ],
      "execution_count": null,
      "outputs": []
    },
    {
      "cell_type": "code",
      "metadata": {
        "id": "qUB1mFNscYiL"
      },
      "source": [
        "l = float(input('Qual é a largura da parede? '))\n",
        "a = float(input('Qual é a altura da parede? '))\n",
        "área = l * a\n",
        "tinta = área / 2\n",
        "print('Para a área de {} m², serão necessários {:.1f} litros de tinta.'.format(área, tinta))\n"
      ],
      "execution_count": null,
      "outputs": []
    },
    {
      "cell_type": "code",
      "metadata": {
        "id": "_iBxaeJDcYlN"
      },
      "source": [
        "p = float(input('Qual é o preço do produto? R$ '))\n",
        "np = p - (p * 5/100)\n",
        "print('Com 5% de desconto, o preço de R$ {:.2f} passa a ser de R$ {:.2f}.'.format(p, np))\n"
      ],
      "execution_count": null,
      "outputs": []
    },
    {
      "cell_type": "code",
      "metadata": {
        "id": "Ub3XEwN68c_o"
      },
      "source": [
        "nome = input('Digite o nome do funcionário: ')\n",
        "salário = float(input('Digite o salário do funcionário: R$ '))\n",
        "aumento = salário + (salário * 15/100)\n",
        "print('O novo salário de {} é R$ {:.2f}.'.format(nome, aumento))\n"
      ],
      "execution_count": null,
      "outputs": []
    },
    {
      "cell_type": "code",
      "metadata": {
        "id": "TqEXy6-0EKni"
      },
      "source": [
        "km = float(input('Quantos km foram percorridos? '))\n",
        "dias = int(input('Por quantos dias o carro ficou alugado? '))\n",
        "preço = (km * 0.15) + (dias * 60)\n",
        "print('O preço total é R$ {:.2f}.'.format(preço))\n"
      ],
      "execution_count": null,
      "outputs": []
    },
    {
      "cell_type": "code",
      "metadata": {
        "id": "AmCyZCr-ISaX"
      },
      "source": [
        "import math\n",
        "n = int(input('Digite um número: '))\n",
        "raiz = math.sqrt(n)\n",
        "print('A raiz quadrada de {} é igual a {:.2f}.'.format(n, raiz))\n"
      ],
      "execution_count": null,
      "outputs": []
    },
    {
      "cell_type": "code",
      "metadata": {
        "id": "f3olfHH3ISg2"
      },
      "source": [
        "from math import trunc\n",
        "n = float(input('Digite um número: '))\n",
        "i = trunc(n)\n",
        "print('O número {} tem a parte inteira {}.'.format(n, i))\n"
      ],
      "execution_count": null,
      "outputs": []
    },
    {
      "cell_type": "code",
      "metadata": {
        "id": "ABo6hX9nISkV"
      },
      "source": [
        "from math import hypot, #sqrt\n",
        "co = float(input('Digite o comprimento do cateto oposto: '))\n",
        "ca = float(input('Digite o comprimento do cateto adjacente: '))\n",
        "#another possibility: h = sqrt(co*co + ca*ca)\n",
        "h = hypot(co, ca)\n",
        "print('A hipotenusa vale {:.2f}.'.format(h))\n"
      ],
      "execution_count": null,
      "outputs": []
    },
    {
      "cell_type": "code",
      "metadata": {
        "id": "m82qp4eqISoQ"
      },
      "source": [
        "from math import sin, cos, tan, radians\n",
        "a = float(input('Digite um ângulo qualquer: '))\n",
        "s = sin(radians(a))\n",
        "c = cos(radians(a))\n",
        "t = tan(radians(a))\n",
        "print('Em relação ao ângulo {},\\no valor do seno é {:.2f},\\ndo cosseno é {:.2f}\\ne da tangente é {:.2f}.'.format(a, s, c, t))\n"
      ],
      "execution_count": null,
      "outputs": []
    },
    {
      "cell_type": "code",
      "metadata": {
        "id": "zZMwk9BuISr-"
      },
      "source": [
        "from random import choice\n",
        "a = input('Nome do primeiro aluno: ')\n",
        "b = input('Nome do segundo aluno: ')\n",
        "c = input('Nome do terceiro aluno: ')\n",
        "d = input('Nome do quarto aluno: ')\n",
        "lista = [a, b, c, d]\n",
        "sorteio = choice(lista)\n",
        "print('O aluno escolhido para apagar o quadro é {}.'.format(sorteio))\n"
      ],
      "execution_count": null,
      "outputs": []
    },
    {
      "cell_type": "code",
      "metadata": {
        "id": "E3leZYQTISvf"
      },
      "source": [
        "from random import shuffle\n",
        "a = str(input('Primeiro aluno: '))\n",
        "b = str(input('Segundo aluno: '))\n",
        "c = str(input('Terceiro aluno: '))\n",
        "d = str(input('Quarto aluno: '))\n",
        "lista = [a, b, c, d]\n",
        "sorteio = shuffle(lista)\n",
        "print('A ordem de apresentação será: ')\n",
        "print(lista)\n"
      ],
      "execution_count": null,
      "outputs": []
    }
  ]
}