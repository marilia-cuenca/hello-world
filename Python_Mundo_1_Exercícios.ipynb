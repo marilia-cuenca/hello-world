{
  "nbformat": 4,
  "nbformat_minor": 0,
  "metadata": {
    "colab": {
      "name": "Python Mundo 1 - Exercícios",
      "provenance": [],
      "collapsed_sections": [],
      "authorship_tag": "ABX9TyO5KLPwSk4N/ki3a36DliCd",
      "include_colab_link": true
    },
    "kernelspec": {
      "name": "python3",
      "display_name": "Python 3"
    },
    "language_info": {
      "name": "python"
    }
  },
  "cells": [
    {
      "cell_type": "markdown",
      "metadata": {
        "id": "view-in-github",
        "colab_type": "text"
      },
      "source": [
        "<a href=\"https://colab.research.google.com/github/marilia-cuenca/hello-world/blob/main/Python_Mundo_1_Exerc%C3%ADcios.ipynb\" target=\"_parent\"><img src=\"https://colab.research.google.com/assets/colab-badge.svg\" alt=\"Open In Colab\"/></a>"
      ]
    },
    {
      "cell_type": "code",
      "metadata": {
        "id": "acjsKcnW8L8y"
      },
      "source": [
        "n1 = int(input('Digite um número: '))\n",
        "n2 = int(input('Digite outro número: '))\n",
        "soma = n1 + n2\n",
        "print('A soma de {} e {} é {}.'.format(n1, n2, soma))\n"
      ],
      "execution_count": null,
      "outputs": []
    },
    {
      "cell_type": "code",
      "metadata": {
        "id": "DBK2S8ik8c1g"
      },
      "source": [
        "x = input('Digite algo: ')\n",
        "print('O tipo primitivo de {} é '.format(x), type(x))\n",
        "print('{} tem só espaços? '.format(x), x.isspace())\n",
        "print('{} é um número? '.format(x), x.isnumeric())\n",
        "print('{} é uma palavra?'.format(x), x.isalpha())\n",
        "print('{} tem letras e números?'.format(x), x.isalnum())\n",
        "print('{} está em maiúsculas?'.format(x), x.isupper())\n",
        "print('{} está em minúsculas?'.format(x), x.islower())\n",
        "print('{} está capitalizada?'.format(x), x.istitle())\n"
      ],
      "execution_count": null,
      "outputs": []
    },
    {
      "cell_type": "code",
      "metadata": {
        "id": "fXL4I-0s8c6A"
      },
      "source": [
        "nome = input('Qual é o seu nome? ')\n",
        "print('Muito prazer em conhecer você, {}!'.format(nome))\n"
      ],
      "execution_count": null,
      "outputs": []
    },
    {
      "cell_type": "code",
      "metadata": {
        "id": "UCIEJVwv8c8p"
      },
      "source": [
        "n1 = int(input('Digite um número: '))\n",
        "n2 = int(input('Digite outro número: '))\n",
        "soma = n1 + n2\n",
        "mult = n1 * n2\n",
        "div = n1 / n2\n",
        "di = n1 // n2\n",
        "exp = n1 ** n2\n",
        "print('A soma entre {} e {} é {} e a divisão é {:.2f}.'. format(n1, n2, soma, div))\n",
        "print('A divisão inteira entre {} e {} é {} e a potência é {}.'.format(n1, n2, di, exp))\n"
      ],
      "execution_count": null,
      "outputs": []
    },
    {
      "cell_type": "code",
      "metadata": {
        "id": "ESEvnpmnYnAk"
      },
      "source": [
        "n1 = int(input('Digite um número: '))\n",
        "#ant = n1 - 1\n",
        "#suc = n1 + 1\n",
        "print('O antecessor de {} é {} e o sucessor é {}.'.format(n1, (n1 - 1), (n1 + 1)))\n"
      ],
      "execution_count": null,
      "outputs": []
    },
    {
      "cell_type": "code",
      "metadata": {
        "id": "Q3kFKTuyYnDB"
      },
      "source": [
        "n1 = int(input('Digite um número: '))\n",
        "d = n1 * 2\n",
        "t = n1 * 3\n",
        "r = n1 ** (1/2)\n",
        "print('O dobro do número {} é {}, o triplo é {} e a raiz quadrada é {:.2f}.'.format(n1, d, t, r))\n"
      ],
      "execution_count": null,
      "outputs": []
    },
    {
      "cell_type": "code",
      "metadata": {
        "id": "e-kaW6RyYnFe"
      },
      "source": [
        "nome = input('Digite o nome do aluno: ')\n",
        "n1 = float(input('Qual é a primeira nota? '))\n",
        "n2 = float(input('Qual é a segunda nota? '))\n",
        "média = (n1 + n2)/2\n",
        "print('A média do aluno {} é {:.1f}.'.format(nome, média))\n"
      ],
      "execution_count": null,
      "outputs": []
    },
    {
      "cell_type": "code",
      "metadata": {
        "id": "JmIOlNajYnH0"
      },
      "source": [
        "v1 = float(input('Qual é o tamanho em metros? '))\n",
        "c = v1*100\n",
        "m = v1*1000\n",
        "print('A conversão de {:.0f} metros para centímetros é {:.0f} e para milímetros é {:.0f}.'.format(v1, c, m))\n"
      ],
      "execution_count": null,
      "outputs": []
    },
    {
      "cell_type": "code",
      "metadata": {
        "id": "NzcE_letYnNQ"
      },
      "source": [
        "n = int(input('Digite um número: '))\n",
        "n1 = n * 1\n",
        "n2 = n * 2\n",
        "n3 = n * 3\n",
        "n4 = n * 4\n",
        "n5 = n * 5\n",
        "n6 = n * 6\n",
        "n7 = n * 7\n",
        "n8 = n * 8\n",
        "n9 = n * 9\n",
        "n10 = n * 10\n",
        "print('A tabuada do número {} é: '.format(n))\n",
        "print(n1, n2, n3, n4, n5, n6, n7, n8, n9, n10)\n"
      ],
      "execution_count": null,
      "outputs": []
    },
    {
      "cell_type": "code",
      "metadata": {
        "id": "4BpPrO72cYfQ"
      },
      "source": [
        "dinheiro = float(input('Quanto de dinheiro você tem? R$ '))\n",
        "dólares = dinheiro / 3.27\n",
        "print('Com a quantia de R$ {}, você pode comprar USD {:.2f}.'.format(dinheiro, dólares))\n"
      ],
      "execution_count": null,
      "outputs": []
    },
    {
      "cell_type": "code",
      "metadata": {
        "id": "qUB1mFNscYiL"
      },
      "source": [
        "l = float(input('Qual é a largura da parede? '))\n",
        "a = float(input('Qual é a altura da parede? '))\n",
        "área = l * a\n",
        "tinta = área / 2\n",
        "print('Para a área de {} m², serão necessários {:.1f} litros de tinta.'.format(área, tinta))\n"
      ],
      "execution_count": null,
      "outputs": []
    },
    {
      "cell_type": "code",
      "metadata": {
        "id": "_iBxaeJDcYlN"
      },
      "source": [
        "p = float(input('Qual é o preço do produto? R$ '))\n",
        "np = p - (p * 5/100)\n",
        "print('Com 5% de desconto, o preço de R$ {:.2f} passa a ser de R$ {:.2f}.'.format(p, np))\n"
      ],
      "execution_count": null,
      "outputs": []
    },
    {
      "cell_type": "code",
      "metadata": {
        "id": "Ub3XEwN68c_o"
      },
      "source": [
        "nome = input('Digite o nome do funcionário: ')\n",
        "salário = float(input('Digite o salário do funcionário: R$ '))\n",
        "aumento = salário + (salário * 15/100)\n",
        "print('O novo salário de {} é R$ {:.2f}.'.format(nome, aumento))\n"
      ],
      "execution_count": null,
      "outputs": []
    },
    {
      "cell_type": "code",
      "metadata": {
        "id": "TqEXy6-0EKni"
      },
      "source": [
        "km = float(input('Quantos km foram percorridos? '))\n",
        "dias = int(input('Por quantos dias o carro ficou alugado? '))\n",
        "preço = (km * 0.15) + (dias * 60)\n",
        "print('O preço total é R$ {:.2f}.'.format(preço))\n"
      ],
      "execution_count": null,
      "outputs": []
    },
    {
      "cell_type": "code",
      "metadata": {
        "id": "AmCyZCr-ISaX"
      },
      "source": [
        "import math\n",
        "n = int(input('Digite um número: '))\n",
        "raiz = math.sqrt(n)\n",
        "print('A raiz quadrada de {} é igual a {:.2f}.'.format(n, raiz))\n"
      ],
      "execution_count": null,
      "outputs": []
    },
    {
      "cell_type": "code",
      "metadata": {
        "id": "f3olfHH3ISg2"
      },
      "source": [
        "from math import trunc\n",
        "n = float(input('Digite um número: '))\n",
        "i = trunc(n)\n",
        "print('O número {} tem a parte inteira {}.'.format(n, i))\n"
      ],
      "execution_count": null,
      "outputs": []
    },
    {
      "cell_type": "code",
      "metadata": {
        "id": "ABo6hX9nISkV"
      },
      "source": [
        "from math import hypot, #sqrt\n",
        "co = float(input('Digite o comprimento do cateto oposto: '))\n",
        "ca = float(input('Digite o comprimento do cateto adjacente: '))\n",
        "#another possibility: h = sqrt(co*co + ca*ca)\n",
        "h = hypot(co, ca)\n",
        "print('A hipotenusa vale {:.2f}.'.format(h))\n"
      ],
      "execution_count": null,
      "outputs": []
    },
    {
      "cell_type": "code",
      "metadata": {
        "id": "m82qp4eqISoQ"
      },
      "source": [
        "from math import sin, cos, tan, radians\n",
        "a = float(input('Digite um ângulo qualquer: '))\n",
        "s = sin(radians(a))\n",
        "c = cos(radians(a))\n",
        "t = tan(radians(a))\n",
        "print('Em relação ao ângulo {},\\no valor do seno é {:.2f},\\ndo cosseno é {:.2f}\\ne da tangente é {:.2f}.'.format(a, s, c, t))\n"
      ],
      "execution_count": null,
      "outputs": []
    },
    {
      "cell_type": "code",
      "metadata": {
        "id": "zZMwk9BuISr-"
      },
      "source": [
        "from random import choice\n",
        "a = input('Nome do primeiro aluno: ')\n",
        "b = input('Nome do segundo aluno: ')\n",
        "c = input('Nome do terceiro aluno: ')\n",
        "d = input('Nome do quarto aluno: ')\n",
        "lista = [a, b, c, d]\n",
        "sorteio = choice(lista)\n",
        "print('O aluno escolhido para apagar o quadro é {}.'.format(sorteio))\n"
      ],
      "execution_count": null,
      "outputs": []
    },
    {
      "cell_type": "code",
      "metadata": {
        "id": "E3leZYQTISvf"
      },
      "source": [
        "from random import shuffle\n",
        "a = str(input('Primeiro aluno: '))\n",
        "b = str(input('Segundo aluno: '))\n",
        "c = str(input('Terceiro aluno: '))\n",
        "d = str(input('Quarto aluno: '))\n",
        "lista = [a, b, c, d]\n",
        "sorteio = shuffle(lista)\n",
        "print('A ordem de apresentação será: ')\n",
        "print(lista)\n"
      ],
      "execution_count": null,
      "outputs": []
    },
    {
      "cell_type": "code",
      "metadata": {
        "id": "d_pWt7vk-c5k"
      },
      "source": [
        "nome = str(input('Digite seu nome: '))\n",
        "cores = {'limpa': '\\033[m',\n",
        "         'azul': '\\033[34m',\n",
        "         'amarelo': '\\033[33m',\n",
        "         'pretoebranco': '\\033[7;30m'}\n",
        "print('Olá! Muito prazer em te conhecer, {}{}{}!'.format(cores['amarelo'], nome, cores['limpa']))\n"
      ],
      "execution_count": null,
      "outputs": []
    },
    {
      "cell_type": "code",
      "metadata": {
        "id": "BsnNu4shZZ26"
      },
      "source": [
        "frase = 'Curso em Vídeo Python'\n",
        "print(frase[3])\n",
        "print(frase[3:13])\n",
        "print(frase[:13])\n",
        "print(frase[1:15:2])\n",
        "print(frase[::2])\n",
        "print(frase.count('o'))\n",
        "print(frase.upper().count('O'))\n",
        "print(len(frase))\n",
        "print(len(frase.strip()))\n",
        "print(frase.replace('Python', 'Android'))\n",
        "print('Curso' in frase)\n",
        "print(frase.find('Vídeo'))\n",
        "print(frase.lower().find('vídeo'))\n",
        "print(frase.split())\n",
        "dividido = frase.split()\n",
        "print(dividido[2][3])\n"
      ],
      "execution_count": null,
      "outputs": []
    },
    {
      "cell_type": "code",
      "metadata": {
        "id": "BEfqLvZHZZ_9"
      },
      "source": [
        "nome = str(input('Digite seu nome completo: ')).strip()\n",
        "print('Analisando seu nome...')\n",
        "print('Seu nome em maiúsculas é {}.'.format(nome.upper()))\n",
        "print('Seu nome em minúsculas é {}.'.format(nome.lower()))\n",
        "print('Seu nome tem ao todo {} letras.'.format(len(nome)-nome.count(' ')))\n",
        "dividido = nome.split()\n",
        "print('Seu primeiro nome tem {} letras.'.format(len(dividido[0])))\n"
      ],
      "execution_count": null,
      "outputs": []
    },
    {
      "cell_type": "code",
      "metadata": {
        "id": "p6Y6irTVhDyz"
      },
      "source": [
        "num = int(input('Digite um número qualquer de 0 a 9999: '))\n",
        "if num <= 9999:\n",
        "  print('Analisando o número {}...'.format(num))\n",
        "  print('Unidade: {}\\nDezena: {}\\nCentena: {}\\nMilhar: {}'.format(num[3], num[2], num[1], num[0]))\n",
        "else:\n",
        "  print('Valor fora do limite permitido.')\n"
      ],
      "execution_count": null,
      "outputs": []
    },
    {
      "cell_type": "code",
      "metadata": {
        "id": "_5hN2n4HhD2K"
      },
      "source": [
        "cidade = str(input('Digite o nome da sua cidade: ')).strip()\n",
        "print('A sua cidade começa com a palavra \"Santo\"?')\n",
        "print(cidade[:5].upper() == 'SANTO')\n"
      ],
      "execution_count": null,
      "outputs": []
    },
    {
      "cell_type": "code",
      "metadata": {
        "id": "D_MK8v9MhD5V"
      },
      "source": [
        "nome = str(input('Qual é o seu nome completo? ')).strip()\n",
        "print('Seu nome tem \"Silva\"? {}'.format('silva' in nome.lower()))\n"
      ],
      "execution_count": null,
      "outputs": []
    },
    {
      "cell_type": "code",
      "metadata": {
        "id": "hPzOmrsFhD_S"
      },
      "source": [
        "frase = str(input('Digite qualquer coisa: ')).upper().strip()\n",
        "print('A letra \"A\" aparece {} vezes na frase.'.format(frase.count('A')))\n",
        "print('A primeira letra \"A\" aparece na posição {}.'.format(frase.find('A')+1))\n",
        "print('A última letra \"A\" aparece na posição {}.'.format(frase.rfind('A')+1))\n"
      ],
      "execution_count": null,
      "outputs": []
    },
    {
      "cell_type": "code",
      "metadata": {
        "id": "o_WSHvAzZaCf"
      },
      "source": [
        "n = str(input('Qual é o seu nome completo? ')).strip().title()\n",
        "nome = n.split()\n",
        "print('Seu primeiro nome é {}'.format(nome[0]))\n",
        "print('Seu último nome é {}'.format(nome[len(nome)-1]))\n"
      ],
      "execution_count": null,
      "outputs": []
    },
    {
      "cell_type": "code",
      "metadata": {
        "id": "RoB1z8m3ZaFA"
      },
      "source": [
        "nome = str(input('Qual é o seu nome? ')).strip().title()\n",
        "if nome == 'Marília':\n",
        "  print('Que nome bonito!')\n",
        "print('Bom dia, {}!'.format(nome))\n"
      ],
      "execution_count": null,
      "outputs": []
    },
    {
      "cell_type": "code",
      "metadata": {
        "id": "BgTEScCSIDsA"
      },
      "source": [
        "nota1 = float(input('Primeira nota: '))\n",
        "nota2 = float(input('Segunda nota: '))\n",
        "média = (nota1 + nota2)/2\n",
        "print('A sua média foi {:.2f}'.format(média))\n",
        "if média >= 6.0:\n",
        "  print('Parabéns, você foi aprovado!')\n",
        "else:\n",
        "  print('Você está de recuperação.')\n"
      ],
      "execution_count": null,
      "outputs": []
    },
    {
      "cell_type": "code",
      "metadata": {
        "id": "6EOQ2mVgJzIj"
      },
      "source": [
        "from random import randint\n",
        "from time import sleep\n",
        "computador = randint(0, 5)\n",
        "print('Estou pensando em um número entre 0 e 5... Tente adivinhar qual é!')\n",
        "usuário = int(input('Escolha um número: '))\n",
        "print('*** PROCESSANDO ***')\n",
        "sleep(2)\n",
        "if computador == usuário:\n",
        "  print('Parabéns, você acertou!')\n",
        "else:\n",
        "  print('Tente de novo.')\n"
      ],
      "execution_count": null,
      "outputs": []
    },
    {
      "cell_type": "code",
      "metadata": {
        "id": "44xOQOF9IEHk"
      },
      "source": [
        "velocidade = float(input('Qual é a velocidade atingida (em km/h)? '))\n",
        "multa = (velocidade - 80)*7\n",
        "if velocidade > 80:\n",
        "  print('Você foi multado. O preço da multa é de R$ {:.2f}.'.format(multa))\n",
        "else:\n",
        "  print('A sua velocidade está dentro do limite. Dirija com cuidado!')\n"
      ],
      "execution_count": null,
      "outputs": []
    },
    {
      "cell_type": "code",
      "metadata": {
        "id": "aRaPd0tdIEKQ"
      },
      "source": [
        "d = float(input('Qual é a distância da viagem em km? '))\n",
        "print('Confirmando a sua viagem de {:.0f} km.'.format(d))\n",
        "if d <= 200:\n",
        "  print('O preço da sua passagem será de R$ {:.2f}.'.format(d*0.50))\n",
        "else:\n",
        "  print('O preço da sua passagem será de R$ {:.2f}.'.format(d*0.45))\n"
      ],
      "execution_count": null,
      "outputs": []
    },
    {
      "cell_type": "code",
      "metadata": {
        "id": "rmV0TaKTWk85"
      },
      "source": [
        "n1 = int(input('Digite um número qualquer: '))\n",
        "n2 = int(input('Digite outro número: '))\n",
        "n3 = int(input('Digite mais um número: '))\n",
        "if n1 < n2 < n3:\n",
        "  print('O número {} é o menor e o {} é o maior'.format(n1, n3))\n",
        "if n3 < n2 < n1:\n",
        "  print('O número {} é o menor e o {} é o maior'.format(n3, n1))\n",
        "if n3 < n1 < n2:\n",
        "  print('O número {} é o menor e o {} é o maior'.format(n3, n2))\n",
        "if n2 < n1 < n3:\n",
        "  print('O número {} é o menor e o {} é o maior'.format(n2, n3))\n",
        "if n2 < n3 < n1:\n",
        "  print('O número {} é o menor e o {} é o maior'.format(n2, n1))\n",
        "if n1 < n3 < n2:\n",
        "  print('O número {} é o menor e o {} é o maior'.format(n1, n2))\n"
      ],
      "execution_count": null,
      "outputs": []
    },
    {
      "cell_type": "code",
      "metadata": {
        "id": "T6Z-0sEAWk_H"
      },
      "source": [
        "s = float(input('Digite o seu salário atual: R$ '))\n",
        "if s > 1250:\n",
        "  print('O seu novo salário será de R$ {:.2f}, pois terá um aumento de 10%.'.format(s + (s*10/100)))\n",
        "if s <= 1250:\n",
        "  print('O seu novo salário será de R$ {:.2f}, pois terá um aumento de 15%.'.format(s + (s*15/100)))\n"
      ],
      "execution_count": null,
      "outputs": []
    },
    {
      "cell_type": "code",
      "metadata": {
        "id": "HuFCF3UoWlB2"
      },
      "source": [
        "número = int(input('Me diga um número qualquer: '))\n",
        "resultado = número % 2\n",
        "#print('O resultado foi {}.'.format(resultado))\n",
        "if resultado == 1:\n",
        "  print('O número {} é ímpar.'.format(número))\n",
        "else:\n",
        "  print('O número {} é par.'.format(número))\n"
      ],
      "execution_count": null,
      "outputs": []
    },
    {
      "cell_type": "code",
      "metadata": {
        "id": "lOLWAnMYWlEc"
      },
      "source": [
        "from datetime import date\n",
        "ano = int(input('Qual ano você quer analisar? Caso queira analisar o ano atual, digite \"0\": '))\n",
        "if ano == 0:\n",
        "  ano = date.today().year\n",
        "if ano % 4 == 0 and ano % 100 != 0 or ano % 400 == 0:\n",
        "  print('O ano {} é bissexto.'.format(ano))\n",
        "else:\n",
        "  print('O ano {} não é bissexto.'.format(ano))\n"
      ],
      "execution_count": null,
      "outputs": []
    }
  ]
}