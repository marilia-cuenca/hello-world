{
  "nbformat": 4,
  "nbformat_minor": 0,
  "metadata": {
    "colab": {
      "name": "Nano Course FIAP - Python_Aulas 01 e 02",
      "provenance": [],
      "collapsed_sections": [],
      "authorship_tag": "ABX9TyOwHAt/nWVWBdOR9rxFP4He",
      "include_colab_link": true
    },
    "kernelspec": {
      "name": "python3",
      "display_name": "Python 3"
    },
    "language_info": {
      "name": "python"
    }
  },
  "cells": [
    {
      "cell_type": "markdown",
      "metadata": {
        "id": "view-in-github",
        "colab_type": "text"
      },
      "source": [
        "<a href=\"https://colab.research.google.com/github/marilia-cuenca/hello-world/blob/main/Nano_Course_FIAP_Python_Aulas_01_e_02.ipynb\" target=\"_parent\"><img src=\"https://colab.research.google.com/assets/colab-badge.svg\" alt=\"Open In Colab\"/></a>"
      ]
    },
    {
      "cell_type": "code",
      "metadata": {
        "id": "BXEnYF-VVv-h"
      },
      "source": [
        "nome = input(\"Digite o nome do funcionário: \")\n",
        "empresa = input(\"Digite o nome da empresa: \")\n",
        "qtde_funcionarios = int(input(\"Digite a quantidade de funcionários: \"))\n",
        "mediaSalario = float(input('Digite a média do salário: '))\n",
        "print(nome + ' trabalha na empresa ' + empresa)\n",
        "print('Possui ', qtde_funcionarios, ' funcionários')\n",
        "print('A média do salário é de R$ ' + str(mediaSalario))\n",
        "print('========== Verifique os tipos de dados abaixo ==========')\n",
        "print('O tipo de dado da variável [nome] é: ', type(nome))\n",
        "print('O tipo de dado da variável [empresa] é: ', type(empresa))\n",
        "print('O tipo de dado da variável [qtde_funcionarios] é: ', type(qtde_funcionarios))\n",
        "print('O tipo de dado da variável [mediaSalario] é: ', type(mediaSalario))\n"
      ],
      "execution_count": null,
      "outputs": []
    },
    {
      "cell_type": "code",
      "metadata": {
        "id": "jTvwJn7BVwHI"
      },
      "source": [
        "responsavel = str(input('Digite o nome do responsável: '))\n",
        "funcionario = str(input('Digite o nome do funcionário: '))\n",
        "evento = str(input('Digite o nome do evento: '))\n",
        "entrada = float(input('Digite o valor da entrada: R$ '))\n",
        "print('Declaro para o senhor ' + responsavel + ' que o funcionário ' + funcionario + ' esteve presente no evento ' + evento + ' e gastou o valor de R$ ' + str(entrada) + ' com a entrada')\n"
      ],
      "execution_count": null,
      "outputs": []
    },
    {
      "cell_type": "code",
      "metadata": {
        "id": "aDxE7Md-VwKT"
      },
      "source": [
        "# Decisões simples\n",
        "nome = input('Digite o nome do paciente: ')\n",
        "idade = int(input('Digite a idade do paciente: '))\n",
        "prioridade = 'NÃO'\n",
        "if idade >= 65:\n",
        "  prioridade = 'SIM'\n",
        "print('O(a) paciente {} possui atendimento prioritário? {}'.format(nome, prioridade))\n"
      ],
      "execution_count": null,
      "outputs": []
    },
    {
      "cell_type": "code",
      "metadata": {
        "id": "zkQgijCkVwNP"
      },
      "source": [
        "# Decisões compostas\n",
        "nome=input('Digite o nome do paciente: ')\n",
        "idade=int(input('Digite a idade do paciente: '))\n",
        "if idade>=65:\n",
        "  print('O(a) paciente {} possui atendimento prioritário'.format(nome))\n",
        "else:\n",
        "  print('O(a) paciente {} não possui atendimento prioritário'.format(nome))\n",
        "  "
      ],
      "execution_count": null,
      "outputs": []
    },
    {
      "cell_type": "code",
      "metadata": {
        "id": "6w5IPDsWAFf1"
      },
      "source": [
        "# Decisões compostas\n",
        "nome=input('Digite o nome do paciente: ')\n",
        "idade=int(input('Digite a idade do paciente: '))\n",
        "doenca=input('Suspeita de doença infecto-contagiosa? ').upper()\n",
        "if idade>=65:\n",
        "  print('O(a) paciente {} possui atendimento prioritário.'.format(nome))\n",
        "elif doenca=='SIM':\n",
        "  print('O(a) paciente {} deve ser direcionado(a) para a sala de espera reservada.'.format(nome))\n",
        "else:\n",
        "  print('O(a) paciente {} não possui atendimento prioritário e pode aguardar na sala comum.'.format(nome))\n"
      ],
      "execution_count": null,
      "outputs": []
    },
    {
      "cell_type": "code",
      "metadata": {
        "id": "kh21DEqFAFoX"
      },
      "source": [
        "# Decisões compostas\n",
        "nome=input('Digite o nome do paciente: ')\n",
        "idade=int(input('Digite a idade do paciente: '))\n",
        "doenca=input('Suspeita de doença infecto-contagiosa? ').upper()\n",
        "if idade>=65 and doenca=='SIM':\n",
        "  print('O(a) paciente {} será direcionado(a) para a sala AMARELA - COM prioridade'.format(nome))\n",
        "elif idade < 65 and doenca=='SIM':\n",
        "  print('O(a) paciente {} será direcionado(a) para a sala AMARELA - SEM prioridade'.format(nome))\n",
        "elif idade>=65 and doenca=='NÃO':\n",
        "  print('O(a) paciente será direcionado(a) para a sala BRANCA - COM prioridade'.format(nome))\n",
        "elif idade < 65 and doenca=='NÃO':\n",
        "  print('O(a) paciente será direcionado(a) para a sala BRANCA - SEM prioridade'.format(nome))\n",
        "else:\n",
        "  print('Responda a suspeita de doença infecto-contagiosa com SIM ou NÃO')\n",
        "      "
      ],
      "execution_count": null,
      "outputs": []
    },
    {
      "cell_type": "code",
      "metadata": {
        "id": "uLZOZAxAAuaB"
      },
      "source": [
        "# Decisões encadeadas\n",
        "nome=input('Digite o nome do paciente: ')\n",
        "idade=int(input('Digite a idade do paciente: '))\n",
        "doenca=input('Suspeita de doença infecto-contagiosa? ').upper()\n",
        "if idade>=65:\n",
        "  print('Paciente COM prioridade')\n",
        "  if doenca=='SIM':\n",
        "    print('Encaminhe o paciente para a sala AMARELA')\n",
        "  elif doenca=='NAO':\n",
        "    print('Encaminhe o paciente para a sala BRANCA')\n",
        "  else: \n",
        "    print('Responda a suspeita de doença infecto-contagiosa com SIM ou NAO')\n",
        "else:\n",
        "  print('Paciente SEM prioridade')\n",
        "  if doenca=='SIM':\n",
        "    print('Encaminhe o paciente para a sala AMARELA')\n",
        "  elif doenca=='NAO':\n",
        "    print('Encaminhe o paciente para a sala BRANCA')\n",
        "  else:\n",
        "    print('Responda a suspeita de doença infecto-contagiosa com SIM ou NAO')\n"
      ],
      "execution_count": null,
      "outputs": []
    },
    {
      "cell_type": "code",
      "metadata": {
        "id": "UoSMBKOTAFrp"
      },
      "source": [
        "# Decisões encadeadas\n",
        "nome=input('Digite o nome do paciente: ')\n",
        "idade=int(input('Digite a idade do paciente: '))\n",
        "doenca=input('Suspeita de doença infecto-contagiosa? ').upper()\n",
        "\n",
        "# PRIMEIRO PROBLEMA A SER RESOLVIDO\n",
        "while doenca!='SIM' and doenca!='NAO':\n",
        "  print('Digite SIM ou NAO')\n",
        "  doenca=input('Suspeita de doença infecto-contagiosa? ')\n",
        "\n",
        "if doenca=='SIM':\n",
        "  print('Encaminhe o paciente para a sala AMARELA')\n",
        "else doenca=='NAO':\n",
        "  print('Encaminhe o paciente para a sala BRANCA')\n",
        "\n",
        "# SEGUNDO PROBLEMA A SER RESOLVIDO\n",
        "if idade >= 65:\n",
        "  print('Paciente COM prioridade')\n",
        "else:\n",
        "  genero=input('Digite o gênero do paciente: ').upper()\n",
        "  if genero=='FEMININO' and 10<idade<65:\n",
        "    gravidez=input('A paciente está grávida? ').upper()\n",
        "    if gravidez=='SIM':\n",
        "      print('Paciente COM prioridade')\n",
        "    else:\n",
        "      print('Paciente SEM prioridade')\n",
        "  else:\n",
        "    print('Paciente SEM prioridade')\n"
      ],
      "execution_count": null,
      "outputs": []
    },
    {
      "cell_type": "code",
      "metadata": {
        "id": "hVQRIHHQAFuo"
      },
      "source": [
        "acesso=input('Qual é o seu nível de acesso: ADM, USR ou GUEST? ').upper()\n",
        "if acesso=='ADM' or acesso=='USR':\n",
        "  genero=input('Digite o seu gênero: ').upper()\n",
        "  if acesso=='ADM':\n",
        "    if genero=='FEMININO':\n",
        "      print('Olá, administradora!')\n",
        "    else:\n",
        "      print('Olá, administrador!')\n",
        "  else:\n",
        "    if genero=='FEMININO':\n",
        "      print('Olá, usuária!')\n",
        "    else:\n",
        "      print('Olá, usuário!')\n",
        "elif acesso=='GUEST':\n",
        "  print('Olá, visitante!')\n",
        "else: print('Olá, desconhecido(a)!')\n"
      ],
      "execution_count": null,
      "outputs": []
    },
    {
      "cell_type": "code",
      "metadata": {
        "id": "1Da0LMfTycFf"
      },
      "source": [
        "#LAÇOS DE REPETIÇÃO: WHILE\n",
        "numero=int(input('Digite um número: '))\n",
        "while numero<100:\n",
        "  print('\\t' + str(numero))\n",
        "  numero=numero+1\n",
        "print('Laço encerrado...')\n"
      ],
      "execution_count": null,
      "outputs": []
    },
    {
      "cell_type": "code",
      "metadata": {
        "id": "AYdRkL2iycNm"
      },
      "source": [
        "#LAÇOS DE REPETIÇÃO: FOR\n",
        "for numero in range(1,int(input('Digite um número para determinar o fim: ')),1):\n",
        "  print('\\t' + str(numero))\n"
      ],
      "execution_count": null,
      "outputs": []
    },
    {
      "cell_type": "code",
      "metadata": {
        "id": "3fNnE9z8ycSJ"
      },
      "source": [
        "tabuada=int(input('Digite um número para exibir a tabuada: '))\n",
        "print(\"Tabuada do número {}:\".format(tabuada))\n",
        "for valor in range(1,11,1):\n",
        "  print(str(tabuada) + \"x\" + str(valor) + \"=\" + str((tabuada*valor)))\n"
      ],
      "execution_count": null,
      "outputs": []
    }
  ]
}